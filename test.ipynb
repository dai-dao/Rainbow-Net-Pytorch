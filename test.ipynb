{
 "cells": [
  {
   "cell_type": "code",
   "execution_count": 1,
   "metadata": {},
   "outputs": [
    {
     "name": "stderr",
     "output_type": "stream",
     "text": [
      "/Users/daidao/anaconda3/envs/rl/lib/python3.6/importlib/_bootstrap.py:219: RuntimeWarning: compiletime version 3.5 of module 'tensorflow.python.framework.fast_tensor_util' does not match runtime version 3.6\n",
      "  return f(*args, **kwds)\n"
     ]
    }
   ],
   "source": [
    "import tensorflow as tf\n",
    "import numpy as np"
   ]
  },
  {
   "cell_type": "code",
   "execution_count": 5,
   "metadata": {},
   "outputs": [
    {
     "name": "stdout",
     "output_type": "stream",
     "text": [
      "[[1 2 3 1 2 3 1 2 3]\n",
      " [1 2 3 1 2 3 1 2 3]]\n",
      "(2, 9)\n"
     ]
    }
   ],
   "source": [
    "a = tf.constant([[1, 2, 3], [1, 2, 3]])\n",
    "b = tf.tile(a, [1, 3])\n",
    "\n",
    "with tf.Session() as sess:\n",
    "    b_ = sess.run(b)\n",
    "    print(b_)\n",
    "    print(b_.shape)"
   ]
  },
  {
   "cell_type": "code",
   "execution_count": 6,
   "metadata": {
    "collapsed": true
   },
   "outputs": [],
   "source": [
    "import torch"
   ]
  },
  {
   "cell_type": "code",
   "execution_count": 24,
   "metadata": {
    "scrolled": true
   },
   "outputs": [
    {
     "name": "stdout",
     "output_type": "stream",
     "text": [
      "\n",
      " 1\n",
      " 2\n",
      " 3\n",
      "[torch.FloatTensor of size 3]\n",
      "\n",
      "torch.Size([3])\n"
     ]
    }
   ],
   "source": [
    "a = torch.Tensor([1, 2, 3])\n",
    "print(a)\n",
    "print(a.size())"
   ]
  },
  {
   "cell_type": "code",
   "execution_count": 25,
   "metadata": {},
   "outputs": [
    {
     "name": "stdout",
     "output_type": "stream",
     "text": [
      "\n",
      " 1  2  3\n",
      " 1  2  3\n",
      "[torch.FloatTensor of size 2x3]\n",
      "\n",
      "torch.Size([2, 3])\n"
     ]
    }
   ],
   "source": [
    "big_a = a.expand(2, -1)\n",
    "print(big_a)\n",
    "print(big_a.size())"
   ]
  },
  {
   "cell_type": "code",
   "execution_count": 27,
   "metadata": {},
   "outputs": [
    {
     "name": "stdout",
     "output_type": "stream",
     "text": [
      "\n",
      "(0 ,.,.) = \n",
      "  1  2  3\n",
      "  1  2  3\n",
      "  1  2  3\n",
      "\n",
      "(1 ,.,.) = \n",
      "  1  2  3\n",
      "  1  2  3\n",
      "  1  2  3\n",
      "[torch.FloatTensor of size 2x3x3]\n",
      "\n",
      "torch.Size([2, 3, 3])\n"
     ]
    }
   ],
   "source": [
    "big_big_a = big_a.repeat(1, 3).view(-1, 3, 3)\n",
    "print(big_big_a)\n",
    "print(big_big_a.size())"
   ]
  },
  {
   "cell_type": "code",
   "execution_count": 28,
   "metadata": {},
   "outputs": [
    {
     "name": "stdout",
     "output_type": "stream",
     "text": [
      "\n",
      "(0 ,.,.) = \n",
      "  1  1  1\n",
      "  2  2  2\n",
      "  3  3  3\n",
      "\n",
      "(1 ,.,.) = \n",
      "  1  1  1\n",
      "  2  2  2\n",
      "  3  3  3\n",
      "[torch.FloatTensor of size 2x3x3]\n",
      "\n"
     ]
    }
   ],
   "source": [
    "print(big_big_a.permute(0, 2, 1))"
   ]
  },
  {
   "cell_type": "code",
   "execution_count": 30,
   "metadata": {},
   "outputs": [
    {
     "name": "stdout",
     "output_type": "stream",
     "text": [
      "\n",
      " 1  1  1  1  1\n",
      " 2  2  2  2  2\n",
      " 3  3  3  3  3\n",
      "[torch.FloatTensor of size 3x5]\n",
      "\n"
     ]
    }
   ],
   "source": [
    "c = torch.Tensor([[1], [2], [3]])\n",
    "print(c.expand(3, 5))"
   ]
  },
  {
   "cell_type": "code",
   "execution_count": 1,
   "metadata": {
    "collapsed": true
   },
   "outputs": [],
   "source": [
    "import torch"
   ]
  },
  {
   "cell_type": "code",
   "execution_count": 2,
   "metadata": {},
   "outputs": [
    {
     "name": "stdout",
     "output_type": "stream",
     "text": [
      "\n",
      " 1  2  3  4\n",
      " 1  2  3  4\n",
      " 1  2  3  4\n",
      "[torch.FloatTensor of size 3x4]\n",
      "\n",
      "torch.Size([3, 4])\n"
     ]
    }
   ],
   "source": [
    "a = torch.Tensor([[1, 2, 3, 4], [1, 2, 3, 4], [1, 2, 3, 4]])\n",
    "print(a)\n",
    "print(a.size())"
   ]
  },
  {
   "cell_type": "code",
   "execution_count": 3,
   "metadata": {},
   "outputs": [
    {
     "data": {
      "text/plain": [
       "\n",
       " 2.5000\n",
       " 2.5000\n",
       " 2.5000\n",
       "[torch.FloatTensor of size 3]"
      ]
     },
     "execution_count": 3,
     "metadata": {},
     "output_type": "execute_result"
    }
   ],
   "source": [
    "a.mean(1)"
   ]
  },
  {
   "cell_type": "code",
   "execution_count": null,
   "metadata": {
    "collapsed": true
   },
   "outputs": [],
   "source": []
  }
 ],
 "metadata": {
  "kernelspec": {
   "display_name": "rl",
   "language": "python",
   "name": "rl"
  },
  "language_info": {
   "codemirror_mode": {
    "name": "ipython",
    "version": 3
   },
   "file_extension": ".py",
   "mimetype": "text/x-python",
   "name": "python",
   "nbconvert_exporter": "python",
   "pygments_lexer": "ipython3",
   "version": "3.6.3"
  }
 },
 "nbformat": 4,
 "nbformat_minor": 2
}
